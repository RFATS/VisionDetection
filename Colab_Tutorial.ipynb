{
  "nbformat": 4,
  "nbformat_minor": 0,
  "metadata": {
    "colab": {
      "provenance": [],
      "machine_shape": "hm",
      "include_colab_link": true
    },
    "kernelspec": {
      "name": "python3",
      "display_name": "Python 3"
    },
    "language_info": {
      "name": "python"
    }
  },
  "cells": [
    {
      "cell_type": "markdown",
      "metadata": {
        "id": "view-in-github",
        "colab_type": "text"
      },
      "source": [
        "<a href=\"https://colab.research.google.com/github/RFATS/VisionDetection/blob/main/Colab_Tutorial.ipynb\" target=\"_parent\"><img src=\"https://colab.research.google.com/assets/colab-badge.svg\" alt=\"Open In Colab\"/></a>"
      ]
    },
    {
      "cell_type": "markdown",
      "source": [
        "# Colab Tutorial\n",
        "### 드라이브 연결하기\n",
        "* Colab을 이용해 실습을 진행합니다.\n",
        "* 이를 위해 직접 데이터를 로드하는 연습을 진행합니다."
      ],
      "metadata": {
        "id": "dwYgcU4wCDet"
      }
    },
    {
      "cell_type": "code",
      "source": [
        "from google.colab import drive\n",
        "drive.mount('/content/drive')"
      ],
      "metadata": {
        "colab": {
          "base_uri": "https://localhost:8080/"
        },
        "id": "q8NDa1HnCApP",
        "outputId": "95327786-1618-4f80-e917-665ce68f60c3"
      },
      "execution_count": null,
      "outputs": [
        {
          "output_type": "stream",
          "name": "stdout",
          "text": [
            "Mounted at /content/drive\n"
          ]
        }
      ]
    },
    {
      "cell_type": "markdown",
      "source": [
        "* 드라이브 연결 후에는 드라이브 내 데이터를 직접 Load합니다."
      ],
      "metadata": {
        "id": "PvEToj6KCcaD"
      }
    },
    {
      "cell_type": "markdown",
      "source": [
        "### 데이터 로드하기"
      ],
      "metadata": {
        "id": "EFAqZGqnCHHh"
      }
    },
    {
      "cell_type": "code",
      "execution_count": null,
      "metadata": {
        "colab": {
          "base_uri": "https://localhost:8080/"
        },
        "id": "chQeSN4UBqyw",
        "outputId": "146aa34b-e940-4c31-974b-26174770282a"
      },
      "outputs": [
        {
          "output_type": "stream",
          "name": "stdout",
          "text": [
            "CSV 파일로부터 DataFrame을 성공적으로 불러왔습니다.\n",
            "      Name  Age         City\n",
            "0    Alice   24     New York\n",
            "1      Bob   27  Los Angeles\n",
            "2  Charlie   22      Chicago\n",
            "3    David   32      Houston\n",
            "4      Eva   28      Phoenix\n"
          ]
        }
      ],
      "source": [
        "import pandas as pd\n",
        "\n",
        "# CSV 파일을 DataFrame으로 불러오기\n",
        "df_loaded = pd.read_csv('/content/drive/MyDrive/dataset/sample_data.csv')\n",
        "print(\"CSV 파일로부터 DataFrame을 성공적으로 불러왔습니다.\")\n",
        "\n",
        "# 불러온 데이터 확인\n",
        "print(df_loaded)"
      ]
    },
    {
      "cell_type": "code",
      "source": [],
      "metadata": {
        "id": "W_l6JRukfu6S"
      },
      "execution_count": null,
      "outputs": []
    }
  ]
}